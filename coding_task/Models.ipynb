{
 "cells": [
  {
   "cell_type": "markdown",
   "id": "9b043481-4662-45bb-8098-7027d97b5daa",
   "metadata": {},
   "source": [
    "# Model"
   ]
  },
  {
   "cell_type": "markdown",
   "id": "27b51c63-210d-4315-a63a-d664b167dbd7",
   "metadata": {},
   "source": [
    "In this notebook we train a number of classifiers to determine if a person is high income from the census data\n",
    "We first pre-process the data\n",
    "Then we fit several models and evaluate them\n",
    "\n",
    "We try a number of known algorithms methods:\n",
    "1. Logisitic Regression\n",
    "2. Naive Bayes\n",
    "3. Decision Tree\n",
    "4. Random Forest\n",
    "5. K-Nearest Neigbours\n",
    "6. Gradient Boosting\n",
    "7. Artificial Neural Network\n",
    "\n",
    "The performance of all models is tested on variations of the training dataset. One with re-sampling of the minority class\n",
    "income > 50K and one without any resampling. This is due to the significant class imbalance present in the dataset\n",
    "\n",
    "It is worth noting that:\n",
    "The models are all used with some default parameters and are trained on the entirety of the training data\n",
    "No hyperparameter tuning on validation data (or cross-validation) was performed"
   ]
  },
  {
   "cell_type": "markdown",
   "id": "24bb560a-e79d-4a61-b441-619963625bb9",
   "metadata": {},
   "source": [
    "## Imports"
   ]
  },
  {
   "cell_type": "code",
   "execution_count": 1,
   "id": "1cb5da19-079c-42ce-bb91-bea0c5076219",
   "metadata": {},
   "outputs": [],
   "source": [
    "import pandas as pd\n",
    "import numpy as np\n",
    "import matplotlib.pyplot as plt\n",
    "import seaborn as sns\n",
    "\n",
    "%matplotlib inline"
   ]
  },
  {
   "cell_type": "markdown",
   "id": "ae227986-8bde-40ff-9c27-121d79688660",
   "metadata": {},
   "source": [
    "## Loading in Data"
   ]
  },
  {
   "cell_type": "code",
   "execution_count": 2,
   "id": "4a6b43d7-a38c-44ff-a74a-224a7e95d85f",
   "metadata": {},
   "outputs": [],
   "source": [
    "# Read in the train/test census datasets\n",
    "income_train_df = pd.read_csv('data/census_train_clean.csv', index_col=0)\n",
    "income_test_df = pd.read_csv('data/census_test_clean.csv', index_col=0)"
   ]
  },
  {
   "cell_type": "code",
   "execution_count": 3,
   "id": "028e6233-1cde-461f-816c-e49a99408b43",
   "metadata": {},
   "outputs": [
    {
     "data": {
      "text/html": [
       "<div>\n",
       "<style scoped>\n",
       "    .dataframe tbody tr th:only-of-type {\n",
       "        vertical-align: middle;\n",
       "    }\n",
       "\n",
       "    .dataframe tbody tr th {\n",
       "        vertical-align: top;\n",
       "    }\n",
       "\n",
       "    .dataframe thead th {\n",
       "        text-align: right;\n",
       "    }\n",
       "</style>\n",
       "<table border=\"1\" class=\"dataframe\">\n",
       "  <thead>\n",
       "    <tr style=\"text-align: right;\">\n",
       "      <th></th>\n",
       "      <th>age</th>\n",
       "      <th>class of worker</th>\n",
       "      <th>education</th>\n",
       "      <th>marital stat</th>\n",
       "      <th>race</th>\n",
       "      <th>sex</th>\n",
       "      <th>full or part time employment stat</th>\n",
       "      <th>capital gains</th>\n",
       "      <th>capital losses</th>\n",
       "      <th>dividends from stocks</th>\n",
       "      <th>num persons worked for employer</th>\n",
       "      <th>citizenship</th>\n",
       "      <th>weeks worked in year</th>\n",
       "      <th>income</th>\n",
       "    </tr>\n",
       "  </thead>\n",
       "  <tbody>\n",
       "    <tr>\n",
       "      <th>0</th>\n",
       "      <td>58</td>\n",
       "      <td>Self-employed-not incorporated</td>\n",
       "      <td>3</td>\n",
       "      <td>0</td>\n",
       "      <td>White</td>\n",
       "      <td>0</td>\n",
       "      <td>Armed Forces</td>\n",
       "      <td>0</td>\n",
       "      <td>0</td>\n",
       "      <td>0</td>\n",
       "      <td>1</td>\n",
       "      <td>Native- Born in the United States</td>\n",
       "      <td>52</td>\n",
       "      <td>0</td>\n",
       "    </tr>\n",
       "    <tr>\n",
       "      <th>1</th>\n",
       "      <td>48</td>\n",
       "      <td>Private</td>\n",
       "      <td>3</td>\n",
       "      <td>1</td>\n",
       "      <td>Amer Indian Aleut or Eskimo</td>\n",
       "      <td>1</td>\n",
       "      <td>Full Time</td>\n",
       "      <td>0</td>\n",
       "      <td>0</td>\n",
       "      <td>0</td>\n",
       "      <td>1</td>\n",
       "      <td>Native- Born in the United States</td>\n",
       "      <td>52</td>\n",
       "      <td>0</td>\n",
       "    </tr>\n",
       "    <tr>\n",
       "      <th>2</th>\n",
       "      <td>42</td>\n",
       "      <td>Private</td>\n",
       "      <td>5</td>\n",
       "      <td>1</td>\n",
       "      <td>White</td>\n",
       "      <td>0</td>\n",
       "      <td>Armed Forces</td>\n",
       "      <td>5178</td>\n",
       "      <td>0</td>\n",
       "      <td>0</td>\n",
       "      <td>6</td>\n",
       "      <td>Native- Born in the United States</td>\n",
       "      <td>52</td>\n",
       "      <td>0</td>\n",
       "    </tr>\n",
       "    <tr>\n",
       "      <th>3</th>\n",
       "      <td>28</td>\n",
       "      <td>Private</td>\n",
       "      <td>3</td>\n",
       "      <td>0</td>\n",
       "      <td>White</td>\n",
       "      <td>1</td>\n",
       "      <td>Unemployed</td>\n",
       "      <td>0</td>\n",
       "      <td>0</td>\n",
       "      <td>0</td>\n",
       "      <td>4</td>\n",
       "      <td>Native- Born in the United States</td>\n",
       "      <td>30</td>\n",
       "      <td>0</td>\n",
       "    </tr>\n",
       "    <tr>\n",
       "      <th>4</th>\n",
       "      <td>47</td>\n",
       "      <td>Local government</td>\n",
       "      <td>3</td>\n",
       "      <td>1</td>\n",
       "      <td>White</td>\n",
       "      <td>1</td>\n",
       "      <td>Full Time</td>\n",
       "      <td>0</td>\n",
       "      <td>0</td>\n",
       "      <td>0</td>\n",
       "      <td>5</td>\n",
       "      <td>Native- Born in the United States</td>\n",
       "      <td>52</td>\n",
       "      <td>0</td>\n",
       "    </tr>\n",
       "  </tbody>\n",
       "</table>\n",
       "</div>"
      ],
      "text/plain": [
       "   age                  class of worker  education  marital stat  \\\n",
       "0   58   Self-employed-not incorporated          3             0   \n",
       "1   48                          Private          3             1   \n",
       "2   42                          Private          5             1   \n",
       "3   28                          Private          3             0   \n",
       "4   47                 Local government          3             1   \n",
       "\n",
       "                           race  sex full or part time employment stat  \\\n",
       "0                         White    0                      Armed Forces   \n",
       "1   Amer Indian Aleut or Eskimo    1                         Full Time   \n",
       "2                         White    0                      Armed Forces   \n",
       "3                         White    1                        Unemployed   \n",
       "4                         White    1                         Full Time   \n",
       "\n",
       "   capital gains  capital losses  dividends from stocks  \\\n",
       "0              0               0                      0   \n",
       "1              0               0                      0   \n",
       "2           5178               0                      0   \n",
       "3              0               0                      0   \n",
       "4              0               0                      0   \n",
       "\n",
       "   num persons worked for employer                         citizenship  \\\n",
       "0                                1   Native- Born in the United States   \n",
       "1                                1   Native- Born in the United States   \n",
       "2                                6   Native- Born in the United States   \n",
       "3                                4   Native- Born in the United States   \n",
       "4                                5   Native- Born in the United States   \n",
       "\n",
       "   weeks worked in year  income  \n",
       "0                    52       0  \n",
       "1                    52       0  \n",
       "2                    52       0  \n",
       "3                    30       0  \n",
       "4                    52       0  "
      ]
     },
     "execution_count": 3,
     "metadata": {},
     "output_type": "execute_result"
    }
   ],
   "source": [
    "income_train_df.head()"
   ]
  },
  {
   "cell_type": "code",
   "execution_count": 4,
   "id": "4670789e-9e0f-4625-987f-4758490fe9d2",
   "metadata": {},
   "outputs": [
    {
     "name": "stdout",
     "output_type": "stream",
     "text": [
      "Train dataset has 96,535 datapoints with proportion of high income earners: 0.11887916299787642\n"
     ]
    }
   ],
   "source": [
    "print(f'Train dataset has {len(income_train_df):,} datapoints with proportion of high income earners: {income_train_df.income.mean()}')"
   ]
  },
  {
   "cell_type": "code",
   "execution_count": 5,
   "id": "b2100ee9-5039-477b-9ec8-687e67266f17",
   "metadata": {},
   "outputs": [
    {
     "name": "stdout",
     "output_type": "stream",
     "text": [
      "Test dataset has 48,338 datapoints with proportion of high income earners: 0.11876784310480368\n"
     ]
    }
   ],
   "source": [
    "print(f'Test dataset has {len(income_test_df):,} datapoints with proportion of high income earners: {income_test_df.income.mean()}')"
   ]
  },
  {
   "cell_type": "markdown",
   "id": "fc6b7ae3-9c5b-4251-8a78-74f9b89ef86f",
   "metadata": {},
   "source": [
    "## Feature Engineering and Data Pre-processing"
   ]
  },
  {
   "cell_type": "code",
   "execution_count": 6,
   "id": "ffbda0d9-94f9-4e8d-954a-9902ba45cf0b",
   "metadata": {},
   "outputs": [],
   "source": [
    "# Get dummy variables for categorical data\n",
    "categorical_cols = income_train_df.columns[income_train_df.dtypes==object].tolist()\n",
    "\n",
    "income_train_df1 = pd.get_dummies(income_train_df, columns=categorical_cols)\n",
    "income_test_df1 = pd.get_dummies(income_test_df, columns=categorical_cols)"
   ]
  },
  {
   "cell_type": "code",
   "execution_count": 7,
   "id": "c6948c44-df2f-4431-adae-63ff3fa0cabc",
   "metadata": {},
   "outputs": [],
   "source": [
    "# Scale numerical data using minmax scaler to keep all input and output dimension in same scale\n",
    "from sklearn.preprocessing import MinMaxScaler\n",
    "\n",
    "numerical_columns = [col for col in income_train_df if col not in categorical_cols + ['income']]\n",
    "\n",
    "# Get min max-scaler\n",
    "mms = MinMaxScaler()\n",
    "# Fit scaler to training data and transform it\n",
    "min_max_scaled_columns_train = mms.fit_transform(income_train_df1[numerical_columns])\n",
    "# Using fit to training data, transform the test data\n",
    "min_max_scaled_columns_test = mms.transform(income_test_df1[numerical_columns])\n",
    "\n",
    "for i, col in enumerate(numerical_columns):\n",
    "    income_train_df1[col] = min_max_scaled_columns_train[:,i]\n",
    "    income_test_df1[col] = min_max_scaled_columns_test[:, i]"
   ]
  },
  {
   "cell_type": "code",
   "execution_count": 8,
   "id": "f720a340-71a3-4d50-8198-b3e266ae378f",
   "metadata": {},
   "outputs": [
    {
     "data": {
      "text/html": [
       "<div>\n",
       "<style scoped>\n",
       "    .dataframe tbody tr th:only-of-type {\n",
       "        vertical-align: middle;\n",
       "    }\n",
       "\n",
       "    .dataframe tbody tr th {\n",
       "        vertical-align: top;\n",
       "    }\n",
       "\n",
       "    .dataframe thead th {\n",
       "        text-align: right;\n",
       "    }\n",
       "</style>\n",
       "<table border=\"1\" class=\"dataframe\">\n",
       "  <thead>\n",
       "    <tr style=\"text-align: right;\">\n",
       "      <th></th>\n",
       "      <th>age</th>\n",
       "      <th>education</th>\n",
       "      <th>marital stat</th>\n",
       "      <th>sex</th>\n",
       "      <th>capital gains</th>\n",
       "      <th>capital losses</th>\n",
       "      <th>dividends from stocks</th>\n",
       "      <th>num persons worked for employer</th>\n",
       "      <th>weeks worked in year</th>\n",
       "      <th>income</th>\n",
       "      <th>...</th>\n",
       "      <th>full or part time employment stat_Armed Forces</th>\n",
       "      <th>full or part time employment stat_Full Time</th>\n",
       "      <th>full or part time employment stat_Not in labor force</th>\n",
       "      <th>full or part time employment stat_Part Time</th>\n",
       "      <th>full or part time employment stat_Unemployed</th>\n",
       "      <th>citizenship_ Foreign born- Not a citizen of U S</th>\n",
       "      <th>citizenship_ Foreign born- U S citizen by naturalization</th>\n",
       "      <th>citizenship_ Native- Born abroad of American Parent(s)</th>\n",
       "      <th>citizenship_ Native- Born in Puerto Rico or U S Outlying</th>\n",
       "      <th>citizenship_ Native- Born in the United States</th>\n",
       "    </tr>\n",
       "  </thead>\n",
       "  <tbody>\n",
       "    <tr>\n",
       "      <th>0</th>\n",
       "      <td>0.555556</td>\n",
       "      <td>0.428571</td>\n",
       "      <td>0.0</td>\n",
       "      <td>0.0</td>\n",
       "      <td>0.000000</td>\n",
       "      <td>0.0</td>\n",
       "      <td>0.0</td>\n",
       "      <td>0.166667</td>\n",
       "      <td>1.000000</td>\n",
       "      <td>0</td>\n",
       "      <td>...</td>\n",
       "      <td>1</td>\n",
       "      <td>0</td>\n",
       "      <td>0</td>\n",
       "      <td>0</td>\n",
       "      <td>0</td>\n",
       "      <td>0</td>\n",
       "      <td>0</td>\n",
       "      <td>0</td>\n",
       "      <td>0</td>\n",
       "      <td>1</td>\n",
       "    </tr>\n",
       "    <tr>\n",
       "      <th>1</th>\n",
       "      <td>0.416667</td>\n",
       "      <td>0.428571</td>\n",
       "      <td>1.0</td>\n",
       "      <td>1.0</td>\n",
       "      <td>0.000000</td>\n",
       "      <td>0.0</td>\n",
       "      <td>0.0</td>\n",
       "      <td>0.166667</td>\n",
       "      <td>1.000000</td>\n",
       "      <td>0</td>\n",
       "      <td>...</td>\n",
       "      <td>0</td>\n",
       "      <td>1</td>\n",
       "      <td>0</td>\n",
       "      <td>0</td>\n",
       "      <td>0</td>\n",
       "      <td>0</td>\n",
       "      <td>0</td>\n",
       "      <td>0</td>\n",
       "      <td>0</td>\n",
       "      <td>1</td>\n",
       "    </tr>\n",
       "    <tr>\n",
       "      <th>2</th>\n",
       "      <td>0.333333</td>\n",
       "      <td>0.714286</td>\n",
       "      <td>1.0</td>\n",
       "      <td>0.0</td>\n",
       "      <td>0.051781</td>\n",
       "      <td>0.0</td>\n",
       "      <td>0.0</td>\n",
       "      <td>1.000000</td>\n",
       "      <td>1.000000</td>\n",
       "      <td>0</td>\n",
       "      <td>...</td>\n",
       "      <td>1</td>\n",
       "      <td>0</td>\n",
       "      <td>0</td>\n",
       "      <td>0</td>\n",
       "      <td>0</td>\n",
       "      <td>0</td>\n",
       "      <td>0</td>\n",
       "      <td>0</td>\n",
       "      <td>0</td>\n",
       "      <td>1</td>\n",
       "    </tr>\n",
       "    <tr>\n",
       "      <th>3</th>\n",
       "      <td>0.138889</td>\n",
       "      <td>0.428571</td>\n",
       "      <td>0.0</td>\n",
       "      <td>1.0</td>\n",
       "      <td>0.000000</td>\n",
       "      <td>0.0</td>\n",
       "      <td>0.0</td>\n",
       "      <td>0.666667</td>\n",
       "      <td>0.576923</td>\n",
       "      <td>0</td>\n",
       "      <td>...</td>\n",
       "      <td>0</td>\n",
       "      <td>0</td>\n",
       "      <td>0</td>\n",
       "      <td>0</td>\n",
       "      <td>1</td>\n",
       "      <td>0</td>\n",
       "      <td>0</td>\n",
       "      <td>0</td>\n",
       "      <td>0</td>\n",
       "      <td>1</td>\n",
       "    </tr>\n",
       "    <tr>\n",
       "      <th>4</th>\n",
       "      <td>0.402778</td>\n",
       "      <td>0.428571</td>\n",
       "      <td>1.0</td>\n",
       "      <td>1.0</td>\n",
       "      <td>0.000000</td>\n",
       "      <td>0.0</td>\n",
       "      <td>0.0</td>\n",
       "      <td>0.833333</td>\n",
       "      <td>1.000000</td>\n",
       "      <td>0</td>\n",
       "      <td>...</td>\n",
       "      <td>0</td>\n",
       "      <td>1</td>\n",
       "      <td>0</td>\n",
       "      <td>0</td>\n",
       "      <td>0</td>\n",
       "      <td>0</td>\n",
       "      <td>0</td>\n",
       "      <td>0</td>\n",
       "      <td>0</td>\n",
       "      <td>1</td>\n",
       "    </tr>\n",
       "  </tbody>\n",
       "</table>\n",
       "<p>5 rows × 33 columns</p>\n",
       "</div>"
      ],
      "text/plain": [
       "        age  education  marital stat  sex  capital gains  capital losses  \\\n",
       "0  0.555556   0.428571           0.0  0.0       0.000000             0.0   \n",
       "1  0.416667   0.428571           1.0  1.0       0.000000             0.0   \n",
       "2  0.333333   0.714286           1.0  0.0       0.051781             0.0   \n",
       "3  0.138889   0.428571           0.0  1.0       0.000000             0.0   \n",
       "4  0.402778   0.428571           1.0  1.0       0.000000             0.0   \n",
       "\n",
       "   dividends from stocks  num persons worked for employer  \\\n",
       "0                    0.0                         0.166667   \n",
       "1                    0.0                         0.166667   \n",
       "2                    0.0                         1.000000   \n",
       "3                    0.0                         0.666667   \n",
       "4                    0.0                         0.833333   \n",
       "\n",
       "   weeks worked in year  income  ...  \\\n",
       "0              1.000000       0  ...   \n",
       "1              1.000000       0  ...   \n",
       "2              1.000000       0  ...   \n",
       "3              0.576923       0  ...   \n",
       "4              1.000000       0  ...   \n",
       "\n",
       "   full or part time employment stat_Armed Forces  \\\n",
       "0                                               1   \n",
       "1                                               0   \n",
       "2                                               1   \n",
       "3                                               0   \n",
       "4                                               0   \n",
       "\n",
       "   full or part time employment stat_Full Time  \\\n",
       "0                                            0   \n",
       "1                                            1   \n",
       "2                                            0   \n",
       "3                                            0   \n",
       "4                                            1   \n",
       "\n",
       "   full or part time employment stat_Not in labor force  \\\n",
       "0                                                  0      \n",
       "1                                                  0      \n",
       "2                                                  0      \n",
       "3                                                  0      \n",
       "4                                                  0      \n",
       "\n",
       "   full or part time employment stat_Part Time  \\\n",
       "0                                            0   \n",
       "1                                            0   \n",
       "2                                            0   \n",
       "3                                            0   \n",
       "4                                            0   \n",
       "\n",
       "   full or part time employment stat_Unemployed  \\\n",
       "0                                             0   \n",
       "1                                             0   \n",
       "2                                             0   \n",
       "3                                             1   \n",
       "4                                             0   \n",
       "\n",
       "   citizenship_ Foreign born- Not a citizen of U S   \\\n",
       "0                                                 0   \n",
       "1                                                 0   \n",
       "2                                                 0   \n",
       "3                                                 0   \n",
       "4                                                 0   \n",
       "\n",
       "   citizenship_ Foreign born- U S citizen by naturalization  \\\n",
       "0                                                  0          \n",
       "1                                                  0          \n",
       "2                                                  0          \n",
       "3                                                  0          \n",
       "4                                                  0          \n",
       "\n",
       "   citizenship_ Native- Born abroad of American Parent(s)  \\\n",
       "0                                                  0        \n",
       "1                                                  0        \n",
       "2                                                  0        \n",
       "3                                                  0        \n",
       "4                                                  0        \n",
       "\n",
       "   citizenship_ Native- Born in Puerto Rico or U S Outlying  \\\n",
       "0                                                  0          \n",
       "1                                                  0          \n",
       "2                                                  0          \n",
       "3                                                  0          \n",
       "4                                                  0          \n",
       "\n",
       "   citizenship_ Native- Born in the United States  \n",
       "0                                               1  \n",
       "1                                               1  \n",
       "2                                               1  \n",
       "3                                               1  \n",
       "4                                               1  \n",
       "\n",
       "[5 rows x 33 columns]"
      ]
     },
     "execution_count": 8,
     "metadata": {},
     "output_type": "execute_result"
    }
   ],
   "source": [
    "income_train_df1.head()"
   ]
  },
  {
   "cell_type": "markdown",
   "id": "719f6a88-4953-40b1-a15e-d8d0b2f8c23b",
   "metadata": {},
   "source": [
    "## Utility Functions"
   ]
  },
  {
   "cell_type": "code",
   "execution_count": 9,
   "id": "55dabe0f-54cb-49e1-8b03-fa65add8810b",
   "metadata": {},
   "outputs": [],
   "source": [
    "from imblearn.over_sampling import SMOTE\n",
    "\n",
    "def get_train_test_data(train_data: pd.DataFrame, test_data: pd.DataFrame, target: str, imbalance_adjustment: bool):\n",
    "    \"\"\"\n",
    "    This function get the training and testing data in the required format. Does minority resampling using the SMOTE\n",
    "    method based on user preference\n",
    "    \"\"\"\n",
    "    \n",
    "    X_train = train_data.drop(target, axis=1)\n",
    "    Y_train = train_data[target]\n",
    "    \n",
    "    X_test = test_data.drop(target, axis=1)\n",
    "    Y_test = test_data[target]\n",
    "    \n",
    "    if imbalance_adjustment:\n",
    "        X_train, Y_train = SMOTE(sampling_strategy='minority').fit_resample(X_train, Y_train)\n",
    "        \n",
    "    return X_train, Y_train, X_test, Y_test"
   ]
  },
  {
   "cell_type": "code",
   "execution_count": 10,
   "id": "80ad5309-9cf1-428c-b26d-9856ef81cf9f",
   "metadata": {},
   "outputs": [],
   "source": [
    "# Utility functions to train and evaluate (make predictions) the model\n",
    "def train_model(model, X_train, Y_train):\n",
    "    model.fit(X_train, Y_train)\n",
    "    return model\n",
    "\n",
    "def evaluate_model(model, X_test, Y_test=None):\n",
    "    if Y_test is None:\n",
    "        predictions = model.predict(X_test)\n",
    "    else:\n",
    "        predictions = model.predict(X_test, Y_test)\n",
    "    return predictions"
   ]
  },
  {
   "cell_type": "code",
   "execution_count": 11,
   "id": "4e229006-07a3-43e7-a8f2-aea81a828d7e",
   "metadata": {},
   "outputs": [],
   "source": [
    "from sklearn.metrics import confusion_matrix\n",
    "from sklearn.metrics import accuracy_score\n",
    "from sklearn.metrics import balanced_accuracy_score\n",
    "from sklearn.metrics import recall_score\n",
    "from sklearn.metrics import precision_score\n",
    "from sklearn.metrics import f1_score\n",
    "from sklearn.metrics import roc_auc_score\n",
    "\n",
    "# A utility function to get metrics based on model predictions\n",
    "def get_metrics(labels, predictions):\n",
    "    accuracy = accuracy_score(labels, predictions)\n",
    "    balanced_accuracy = balanced_accuracy_score(labels, predictions)\n",
    "    recall = recall_score(labels, predictions, labels=[0, 1], average=None)\n",
    "    precision = precision_score(labels, predictions, labels=[0, 1], average=None)\n",
    "    f1 = f1_score(labels, predictions)\n",
    "    roc = roc_auc_score(labels, predictions)\n",
    "    \n",
    "    print(f'Accuracy: {accuracy:.2f}')\n",
    "    print(f'Balanced Accuracy: {balanced_accuracy:.2f}')\n",
    "    print(f'Recall [0, 1]: {recall}')\n",
    "    print(f'Precision [0, 1]: {precision}')\n",
    "    print(f'f1: {f1:.2f}')\n",
    "    print(f'ROC AUC: {roc:.2f}')\n",
    "    \n",
    "    return balanced_accuracy, recall, precision\n",
    "    \n",
    "# A utility function to plot the confusion matrix\n",
    "def plot_normalised_confusion_matrix(labels, predictions, title): \n",
    "    cm = confusion_matrix(Y_test, predictions)\n",
    "    cmn = cm.astype('float') / cm.sum(axis=1)[:, np.newaxis]\n",
    "    fig, ax = plt.subplots(figsize=(3,3))\n",
    "    sns.heatmap(cmn, annot=True, fmt='.2f', xticklabels=['0', '1'], yticklabels=['0', '1'])\n",
    "    plt.ylabel('Actual')\n",
    "    plt.xlabel('Predicted')\n",
    "    plt.title(title)\n",
    "    plt.show(block=False)\n",
    "    "
   ]
  },
  {
   "cell_type": "code",
   "execution_count": 12,
   "id": "9d8d013f-fae6-45db-a6e5-343975e4858a",
   "metadata": {},
   "outputs": [],
   "source": [
    "# Get the train and test data\n",
    "X_train, Y_train, X_test, Y_test = get_train_test_data(income_train_df1, income_test_df1, 'income', False)\n",
    "X_train_adj, Y_train_adj, _, _ = get_train_test_data(income_train_df1, income_test_df1, 'income', True)"
   ]
  },
  {
   "cell_type": "markdown",
   "id": "9bfbfe5e-84d6-4a8c-a286-f56bc41634a9",
   "metadata": {},
   "source": [
    "## Logisitic Regression"
   ]
  },
  {
   "cell_type": "code",
   "execution_count": 13,
   "id": "7997e574-9f97-48df-ac97-342c4fee648e",
   "metadata": {},
   "outputs": [],
   "source": [
    "from sklearn.linear_model import LogisticRegression\n",
    "\n",
    "\n",
    "LR_model1 = train_model(LogisticRegression(solver = 'newton-cholesky'), X_train, Y_train)\n",
    "LR_model2 = train_model(LogisticRegression(solver = 'newton-cholesky'), X_train_adj, Y_train_adj)\n",
    "\n",
    "LR_model1_pred = evaluate_model(LR_model1, X_test)\n",
    "LR_model2_pred = evaluate_model(LR_model2, X_test)"
   ]
  },
  {
   "cell_type": "code",
   "execution_count": 14,
   "id": "7d9b9e1e-7b72-4cd1-b287-c67995262824",
   "metadata": {},
   "outputs": [
    {
     "name": "stdout",
     "output_type": "stream",
     "text": [
      "Accuracy: 0.91\n",
      "Balanced Accuracy: 0.66\n",
      "Recall [0, 1]: [0.98227575 0.33931371]\n",
      "Precision [0, 1]: [0.91688397 0.72068073]\n",
      "f1: 0.46\n",
      "ROC AUC: 0.66\n"
     ]
    }
   ],
   "source": [
    "LR_model1_balanced_accuracy, LR_model1_recall, LR_model1_precision = get_metrics(Y_test, LR_model1_pred)"
   ]
  },
  {
   "cell_type": "code",
   "execution_count": 15,
   "id": "f40d5e78-34f0-480d-9d15-ebb291a8ed63",
   "metadata": {
    "tags": []
   },
   "outputs": [
    {
     "data": {
      "image/png": "[encoded data removed]",
      "text/plain": [
       "<Figure size 300x300 with 2 Axes>"
      ]
     },
     "metadata": {},
     "output_type": "display_data"
    }
   ],
   "source": [
    "plot_normalised_confusion_matrix(Y_test, LR_model1_pred, 'Logistic Regression')"
   ]
  },
  {
   "cell_type": "code",
   "execution_count": 16,
   "id": "988454fb-fb21-45bb-a30c-2788dae91c49",
   "metadata": {},
   "outputs": [
    {
     "name": "stdout",
     "output_type": "stream",
     "text": [
      "Accuracy: 0.81\n",
      "Balanced Accuracy: 0.80\n",
      "Recall [0, 1]: [0.81200554 0.79254485]\n",
      "Precision [0, 1]: [0.96671325 0.36231884]\n",
      "f1: 0.50\n",
      "ROC AUC: 0.80\n"
     ]
    }
   ],
   "source": [
    "LR_model2_balanced_accuracy, LR_model2_recall, LR_model2_precision = get_metrics(Y_test, LR_model2_pred)"
   ]
  },
  {
   "cell_type": "code",
   "execution_count": 17,
   "id": "b016d609-28f7-4b78-8a49-3d860711e10e",
   "metadata": {
    "tags": []
   },
   "outputs": [
    {
     "data": {
      "image/png": "[encoded data removed]",
      "text/plain": [
       "<Figure size 300x300 with 2 Axes>"
      ]
     },
     "metadata": {},
     "output_type": "display_data"
    }
   ],
   "source": [
    "plot_normalised_confusion_matrix(Y_test, LR_model2_pred, 'Logistic Regression with minority resampling')"
   ]
  },
  {
   "cell_type": "markdown",
   "id": "954985bb-1b36-4620-aab1-2f80df7c5898",
   "metadata": {
    "tags": []
   },
   "source": [
    "## Naive Bayes"
   ]
  },
  {
   "cell_type": "code",
   "execution_count": 18,
   "id": "1fa359fc-c8db-4629-81ce-142848cf945e",
   "metadata": {},
   "outputs": [],
   "source": [
    "from sklearn.naive_bayes import GaussianNB\n",
    "\n",
    "NB_model1 = train_model(GaussianNB(), X_train, Y_train)\n",
    "NB_model2 = train_model(GaussianNB(), X_train_adj, Y_train_adj)\n",
    "\n",
    "NB_model1_pred = evaluate_model(NB_model1, X_test)\n",
    "NB_model2_pred = evaluate_model(NB_model2, X_test)"
   ]
  },
  {
   "cell_type": "code",
   "execution_count": 19,
   "id": "9b6fe4b0-1880-4c2d-8cb2-1c0d50d62dd6",
   "metadata": {},
   "outputs": [
    {
     "name": "stdout",
     "output_type": "stream",
     "text": [
      "Accuracy: 0.81\n",
      "Balanced Accuracy: 0.77\n",
      "Recall [0, 1]: [0.81707632 0.72757359]\n",
      "Precision [0, 1]: [0.95699634 0.34898488]\n",
      "f1: 0.47\n",
      "ROC AUC: 0.77\n"
     ]
    }
   ],
   "source": [
    "NB_model1_balanced_accuracy, NB_model1_recall, NB_model1_precision = get_metrics(Y_test, NB_model1_pred)"
   ]
  },
  {
   "cell_type": "code",
   "execution_count": 20,
   "id": "17759a48-1567-40ad-a878-faed1c3278f4",
   "metadata": {
    "tags": []
   },
   "outputs": [
    {
     "data": {
      "image/png": "[encoded data removed]",
      "text/plain": [
       "<Figure size 300x300 with 2 Axes>"
      ]
     },
     "metadata": {},
     "output_type": "display_data"
    }
   ],
   "source": [
    "plot_normalised_confusion_matrix(Y_test, NB_model1_pred, 'Naive Bayes')"
   ]
  },
  {
   "cell_type": "code",
   "execution_count": 21,
   "id": "6d33f5c5-175b-4089-a148-ff3748b2c972",
   "metadata": {},
   "outputs": [
    {
     "name": "stdout",
     "output_type": "stream",
     "text": [
      "Accuracy: 0.45\n",
      "Balanced Accuracy: 0.65\n",
      "Recall [0, 1]: [0.38561401 0.91673924]\n",
      "Precision [0, 1]: [0.97172267 0.16743017]\n",
      "f1: 0.28\n",
      "ROC AUC: 0.65\n"
     ]
    }
   ],
   "source": [
    "NB_model2_balanced_accuracy, NB_model2_recall, NB_model2_precision = get_metrics(Y_test, NB_model2_pred)"
   ]
  },
  {
   "cell_type": "code",
   "execution_count": 22,
   "id": "2c436014-f6a4-4d27-bc7e-19150e55d898",
   "metadata": {
    "tags": []
   },
   "outputs": [
    {
     "data": {
      "image/png": "[encoded data removed]",
      "text/plain": [
       "<Figure size 300x300 with 2 Axes>"
      ]
     },
     "metadata": {},
     "output_type": "display_data"
    }
   ],
   "source": [
    "plot_normalised_confusion_matrix(Y_test, NB_model2_pred, 'Naive Bayes with minority resampling')"
   ]
  },
  {
   "cell_type": "markdown",
   "id": "eb36c9f2-269f-4998-acbb-181dd8633ed7",
   "metadata": {},
   "source": [
    "## Decision Tree"
   ]
  },
  {
   "cell_type": "code",
   "execution_count": 23,
   "id": "01697042-27eb-4718-80a6-f57b00af9948",
   "metadata": {},
   "outputs": [],
   "source": [
    "from sklearn.tree import DecisionTreeClassifier\n",
    "\n",
    "DT_model1 = train_model(DecisionTreeClassifier(criterion='entropy',min_samples_split=8,max_depth=10), X_train, Y_train)\n",
    "DT_model2 = train_model(DecisionTreeClassifier(criterion='entropy',min_samples_split=8,max_depth=10), X_train_adj, Y_train_adj)\n",
    "\n",
    "DT_model1_pred = evaluate_model(DT_model1, X_test)\n",
    "DT_model2_pred = evaluate_model(DT_model2, X_test)"
   ]
  },
  {
   "cell_type": "code",
   "execution_count": 24,
   "id": "5eb51882-5671-4f67-8e40-10f369a3bec2",
   "metadata": {},
   "outputs": [
    {
     "name": "stdout",
     "output_type": "stream",
     "text": [
      "Accuracy: 0.91\n",
      "Balanced Accuracy: 0.69\n",
      "Recall [0, 1]: [0.9767824  0.40985891]\n",
      "Precision [0, 1]: [0.92470442 0.70406942]\n",
      "f1: 0.52\n",
      "ROC AUC: 0.69\n"
     ]
    }
   ],
   "source": [
    "DT_model1_balanced_accuracy, DT_model1_recall, DT_model1_precision = get_metrics(Y_test, DT_model1_pred)"
   ]
  },
  {
   "cell_type": "code",
   "execution_count": 25,
   "id": "d4fd0352-b84b-4a98-8b1c-5dcab664a992",
   "metadata": {},
   "outputs": [
    {
     "data": {
      "image/png": "[encoded data removed]",
      "text/plain": [
       "<Figure size 300x300 with 2 Axes>"
      ]
     },
     "metadata": {},
     "output_type": "display_data"
    }
   ],
   "source": [
    "plot_normalised_confusion_matrix(Y_test, DT_model1_pred, 'Decision Tree')"
   ]
  },
  {
   "cell_type": "code",
   "execution_count": 26,
   "id": "3c8959c6-590b-4876-8578-68da9158a23f",
   "metadata": {},
   "outputs": [
    {
     "name": "stdout",
     "output_type": "stream",
     "text": [
      "Accuracy: 0.86\n",
      "Balanced Accuracy: 0.78\n",
      "Recall [0, 1]: [0.88177571 0.68054346]\n",
      "Precision [0, 1]: [0.95344587 0.43687801]\n",
      "f1: 0.53\n",
      "ROC AUC: 0.78\n"
     ]
    }
   ],
   "source": [
    "DT_model2_balanced_accuracy, DT_model2_recall, DT_model2_precision = get_metrics(Y_test, DT_model2_pred)"
   ]
  },
  {
   "cell_type": "code",
   "execution_count": 27,
   "id": "42ac64c5-fd2a-4ce4-af7c-d2e24d255335",
   "metadata": {},
   "outputs": [
    {
     "data": {
      "image/png": "[encoded data removed]",
      "text/plain": [
       "<Figure size 300x300 with 2 Axes>"
      ]
     },
     "metadata": {},
     "output_type": "display_data"
    }
   ],
   "source": [
    "plot_normalised_confusion_matrix(Y_test, DT_model2_pred, 'Decision Tree with minority resampling')"
   ]
  },
  {
   "cell_type": "markdown",
   "id": "958a0d5f-0dad-4ce9-9378-6a3ed931cb2c",
   "metadata": {},
   "source": [
    "## Random Forest"
   ]
  },
  {
   "cell_type": "code",
   "execution_count": 28,
   "id": "e2923caf-c25c-40e6-b58a-bffb0116e2f9",
   "metadata": {},
   "outputs": [],
   "source": [
    "from sklearn.ensemble import RandomForestClassifier\n",
    "\n",
    "RF_model1 = train_model(RandomForestClassifier(n_estimators=100), X_train, Y_train)\n",
    "RF_model2 = train_model(RandomForestClassifier(n_estimators=100), X_train_adj, Y_train_adj)\n",
    "\n",
    "RF_model1_pred = evaluate_model(RF_model1, X_test)\n",
    "RF_model2_pred = evaluate_model(RF_model2, X_test)"
   ]
  },
  {
   "cell_type": "code",
   "execution_count": 29,
   "id": "5133f61d-760f-433b-937b-26d8a4c42576",
   "metadata": {},
   "outputs": [
    {
     "name": "stdout",
     "output_type": "stream",
     "text": [
      "Accuracy: 0.90\n",
      "Balanced Accuracy: 0.70\n",
      "Recall [0, 1]: [0.96450454 0.44434767]\n",
      "Precision [0, 1]: [0.92795031 0.62786119]\n",
      "f1: 0.52\n",
      "ROC AUC: 0.70\n"
     ]
    }
   ],
   "source": [
    "RF_model1_balanced_accuracy, RF_model1_recall, RF_model1_precision = get_metrics(Y_test, RF_model1_pred)"
   ]
  },
  {
   "cell_type": "code",
   "execution_count": 30,
   "id": "cd8bbaf6-7e08-465a-85dc-9ca67f9adfa6",
   "metadata": {},
   "outputs": [
    {
     "data": {
      "image/png": "[encoded data removed]",
      "text/plain": [
       "<Figure size 300x300 with 2 Axes>"
      ]
     },
     "metadata": {},
     "output_type": "display_data"
    }
   ],
   "source": [
    "plot_normalised_confusion_matrix(Y_test, RF_model1_pred, 'Random Forest')"
   ]
  },
  {
   "cell_type": "code",
   "execution_count": 31,
   "id": "0162557e-57fc-4c93-8e11-ea68f2894f9b",
   "metadata": {},
   "outputs": [
    {
     "name": "stdout",
     "output_type": "stream",
     "text": [
      "Accuracy: 0.87\n",
      "Balanced Accuracy: 0.75\n",
      "Recall [0, 1]: [0.90917201 0.59275388]\n",
      "Precision [0, 1]: [0.94306726 0.4679593 ]\n",
      "f1: 0.52\n",
      "ROC AUC: 0.75\n"
     ]
    }
   ],
   "source": [
    "RF_model2_balanced_accuracy, RF_model2_recall, RF_model2_precision = get_metrics(Y_test, RF_model2_pred)"
   ]
  },
  {
   "cell_type": "code",
   "execution_count": 32,
   "id": "e507627d-bd7a-4db2-88cb-1ac042280efd",
   "metadata": {},
   "outputs": [
    {
     "data": {
      "image/png": "[encoded data removed]",
      "text/plain": [
       "<Figure size 300x300 with 2 Axes>"
      ]
     },
     "metadata": {},
     "output_type": "display_data"
    }
   ],
   "source": [
    "plot_normalised_confusion_matrix(Y_test, RF_model2_pred, 'Random Forest with minority resampling')"
   ]
  },
  {
   "cell_type": "markdown",
   "id": "f1b81ea1-c02f-4fbb-80f5-323d12cef673",
   "metadata": {},
   "source": [
    "## K Nearest Neighbour"
   ]
  },
  {
   "cell_type": "code",
   "execution_count": 33,
   "id": "96dbbe09-9592-4fbb-9f15-5b286d9f603b",
   "metadata": {},
   "outputs": [],
   "source": [
    "from sklearn.neighbors import KNeighborsClassifier\n",
    "\n",
    "KNN_model1 = train_model(KNeighborsClassifier(), X_train, Y_train)\n",
    "KNN_model2 = train_model(KNeighborsClassifier(), X_train_adj, Y_train_adj)\n",
    "\n",
    "KNN_model1_pred = evaluate_model(KNN_model1, X_test)\n",
    "KNN_model2_pred = evaluate_model(KNN_model2, X_test)"
   ]
  },
  {
   "cell_type": "code",
   "execution_count": 34,
   "id": "7f053d2c-3dd0-43b7-baac-889c2e56ad89",
   "metadata": {},
   "outputs": [
    {
     "name": "stdout",
     "output_type": "stream",
     "text": [
      "Accuracy: 0.90\n",
      "Balanced Accuracy: 0.66\n",
      "Recall [0, 1]: [0.97140644 0.34088138]\n",
      "Precision [0, 1]: [0.9162146  0.61637795]\n",
      "f1: 0.44\n",
      "ROC AUC: 0.66\n"
     ]
    }
   ],
   "source": [
    "KNN_model1_balanced_accuracy, KNN_model1_recall, KNN_model1_precision = get_metrics(Y_test, KNN_model1_pred)"
   ]
  },
  {
   "cell_type": "code",
   "execution_count": 35,
   "id": "4c317fe7-f952-4c8d-8ce9-6b30cce09b45",
   "metadata": {},
   "outputs": [
    {
     "data": {
      "image/png": "[encoded data removed]",
      "text/plain": [
       "<Figure size 300x300 with 2 Axes>"
      ]
     },
     "metadata": {},
     "output_type": "display_data"
    }
   ],
   "source": [
    "plot_normalised_confusion_matrix(Y_test, KNN_model1_pred, 'Nearest Neighbour')"
   ]
  },
  {
   "cell_type": "code",
   "execution_count": 36,
   "id": "366c3d2d-3a31-4996-95b9-79d59d116020",
   "metadata": {},
   "outputs": [
    {
     "name": "stdout",
     "output_type": "stream",
     "text": [
      "Accuracy: 0.83\n",
      "Balanced Accuracy: 0.74\n",
      "Recall [0, 1]: [0.86104655 0.61208849]\n",
      "Precision [0, 1]: [0.942758 0.372522]\n",
      "f1: 0.46\n",
      "ROC AUC: 0.74\n"
     ]
    }
   ],
   "source": [
    "KNN_model2_balanced_accuracy, KNN_model2_recall, KNN_model2_precision = get_metrics(Y_test, KNN_model2_pred)"
   ]
  },
  {
   "cell_type": "code",
   "execution_count": 37,
   "id": "ef2b85af-fb35-4b1f-8c9c-98357fdea9dc",
   "metadata": {},
   "outputs": [
    {
     "data": {
      "image/png": "[encoded data removed]",
      "text/plain": [
       "<Figure size 300x300 with 2 Axes>"
      ]
     },
     "metadata": {},
     "output_type": "display_data"
    }
   ],
   "source": [
    "plot_normalised_confusion_matrix(Y_test, KNN_model2_pred, 'Nearest Neighbour with minority resampling')"
   ]
  },
  {
   "cell_type": "markdown",
   "id": "2a96b9f5-55ed-4b36-ace8-81925cefcb0e",
   "metadata": {},
   "source": [
    "## Gradient Boosting"
   ]
  },
  {
   "cell_type": "code",
   "execution_count": 38,
   "id": "3529493a-3d2d-4d7d-83dc-6bd5c19b0ace",
   "metadata": {},
   "outputs": [],
   "source": [
    "from sklearn.ensemble import GradientBoostingClassifier\n",
    "\n",
    "GB_model1 = train_model(GradientBoostingClassifier(n_estimators=100), X_train, Y_train)\n",
    "GB_model2 = train_model(GradientBoostingClassifier(n_estimators=100), X_train_adj, Y_train_adj)\n",
    "\n",
    "GB_model1_pred = evaluate_model(GB_model1, X_test)\n",
    "GB_model2_pred = evaluate_model(GB_model2, X_test)"
   ]
  },
  {
   "cell_type": "code",
   "execution_count": 39,
   "id": "c8aff325-276b-4525-a02c-07ebb1f68ae6",
   "metadata": {},
   "outputs": [
    {
     "name": "stdout",
     "output_type": "stream",
     "text": [
      "Accuracy: 0.91\n",
      "Balanced Accuracy: 0.69\n",
      "Recall [0, 1]: [0.98100805 0.40323985]\n",
      "Precision [0, 1]: [0.92422701 0.74103713]\n",
      "f1: 0.52\n",
      "ROC AUC: 0.69\n"
     ]
    }
   ],
   "source": [
    "GB_model1_balanced_accuracy, GB_model1_recall, GB_model1_precision = get_metrics(Y_test, GB_model1_pred)"
   ]
  },
  {
   "cell_type": "code",
   "execution_count": 40,
   "id": "8a269c65-5fbb-4a3d-a5e8-5761a913201c",
   "metadata": {},
   "outputs": [
    {
     "data": {
      "image/png": "[encoded data removed]",
      "text/plain": [
       "<Figure size 300x300 with 2 Axes>"
      ]
     },
     "metadata": {},
     "output_type": "display_data"
    }
   ],
   "source": [
    "plot_normalised_confusion_matrix(Y_test, GB_model1_pred, 'Gradient Boosting')"
   ]
  },
  {
   "cell_type": "code",
   "execution_count": 41,
   "id": "9f36af98-c24c-4c15-a573-780b9b99c139",
   "metadata": {},
   "outputs": [
    {
     "name": "stdout",
     "output_type": "stream",
     "text": [
      "Accuracy: 0.85\n",
      "Balanced Accuracy: 0.80\n",
      "Recall [0, 1]: [0.86538958 0.74237938]\n",
      "Precision [0, 1]: [0.96142611 0.42637055]\n",
      "f1: 0.54\n",
      "ROC AUC: 0.80\n"
     ]
    }
   ],
   "source": [
    "GB_model2_balanced_accuracy, GB_model2_recall, GB_model2_precision = get_metrics(Y_test, GB_model2_pred)"
   ]
  },
  {
   "cell_type": "code",
   "execution_count": 42,
   "id": "293881a0-cf76-4137-b397-2ac82e73c87a",
   "metadata": {},
   "outputs": [
    {
     "data": {
      "image/png": "[encoded data removed]",
      "text/plain": [
       "<Figure size 300x300 with 2 Axes>"
      ]
     },
     "metadata": {},
     "output_type": "display_data"
    }
   ],
   "source": [
    "plot_normalised_confusion_matrix(Y_test, GB_model2_pred, 'Gradient Boosting with minority resampling')"
   ]
  },
  {
   "cell_type": "markdown",
   "id": "d8ad4204-9cf1-43ef-a380-fde43358f720",
   "metadata": {},
   "source": [
    "## Neural Network"
   ]
  },
  {
   "cell_type": "code",
   "execution_count": 43,
   "id": "97cb2af0-26f5-4f51-88e5-1023e99b7376",
   "metadata": {},
   "outputs": [],
   "source": [
    "import torch\n",
    "from torch.utils.data import Dataset, DataLoader\n",
    "\n",
    "# This class is used to convert the dataset to a torch datset that can be handled by DataLoader and the model \n",
    "class Data(Dataset):\n",
    "    def __init__(self, X, y):\n",
    "        self.X = torch.tensor(X.values,dtype=torch.float32)\n",
    "        self.y = torch.tensor(y.values,dtype=torch.float32)\n",
    "        self.len = self.X.shape[0]\n",
    "       \n",
    "    def __getitem__(self, index):\n",
    "        return self.X[index], self.y[index]\n",
    "   \n",
    "    def __len__(self):\n",
    "        return self.len"
   ]
  },
  {
   "cell_type": "code",
   "execution_count": 44,
   "id": "eaa18aa8-614a-49e0-8224-b971dbd34528",
   "metadata": {},
   "outputs": [],
   "source": [
    "from torch import nn\n",
    "\n",
    "# We define the neural architecure used in our classifier. Here is a simple 3 layer network\n",
    "class Network(nn.Module):\n",
    "    def __init__(self, input_dim, hidden_dim):\n",
    "        super(Network, self).__init__()\n",
    "        self.layer_1 = nn.Linear(input_dim, hidden_dim)\n",
    "        self.layer_2 = nn.Linear(hidden_dim, hidden_dim)\n",
    "        self.layer_3 = nn.Linear(hidden_dim, 1)\n",
    "       \n",
    "    def forward(self, x):\n",
    "        x = nn.functional.relu(self.layer_1(x))\n",
    "        x = nn.functional.relu(self.layer_2(x))\n",
    "        x = torch.sigmoid(self.layer_3(x))\n",
    "\n",
    "        return x"
   ]
  },
  {
   "cell_type": "code",
   "execution_count": 45,
   "id": "d70ea532-1578-472c-a10c-55680871aa66",
   "metadata": {},
   "outputs": [],
   "source": [
    "import itertools\n",
    "\n",
    "# We define the classifer model here. We define a fit method to train the model and a predict method to get predictions \n",
    "# the trained model\n",
    "# The methods inputs and outputs are compatible with the helper functions defined earlier\n",
    "class NeuralNetworkModel:\n",
    "    def __init__(self, input_dim, hidden_dim, network, batch_size=64, lr=0.1, epochs=10):\n",
    "        self.net = network(input_dim, hidden_dim)\n",
    "        self.batch_size = batch_size\n",
    "        \n",
    "        self.loss_fn = nn.BCELoss()\n",
    "        self.optimizer = torch.optim.SGD(self.net.parameters(), lr=lr)\n",
    "        self.epochs = epochs\n",
    "        \n",
    "    def fit(self, X_train, Y_train):\n",
    "        train_data = Data(X_train, Y_train)\n",
    "        train_dataloader = DataLoader(dataset=train_data, batch_size=self.batch_size, shuffle=True)\n",
    "        \n",
    "        for epoch in range(self.epochs):\n",
    "            for X, y in train_dataloader:\n",
    "                # zero the parameter gradients\n",
    "                self.optimizer.zero_grad()\n",
    "       \n",
    "                # forward + backward + optimize\n",
    "                pred = self.net(X)\n",
    "                loss = self.loss_fn(pred, y.unsqueeze(-1))\n",
    "                loss.backward()\n",
    "                self.optimizer.step()\n",
    "                \n",
    "    def predict(self, X_test, Y_test):\n",
    "        test_data = Data(X_test, Y_test)\n",
    "        test_dataloader = DataLoader(dataset=test_data, batch_size=len(Y_test), shuffle=False)\n",
    "        with torch.no_grad():\n",
    "            for X, y in test_dataloader:\n",
    "                outputs = self.net(X)\n",
    "                predicted = np.where(outputs < 0.5, 0, 1)\n",
    "                predicted = list(itertools.chain(*predicted))\n",
    "                \n",
    "        return predicted\n",
    "           "
   ]
  },
  {
   "cell_type": "code",
   "execution_count": 46,
   "id": "c307188e-4155-47a8-91ab-4ec8392b7d62",
   "metadata": {},
   "outputs": [],
   "source": [
    "# We define the NN classifier parameters\n",
    "input_dim = X_train.shape[1]\n",
    "hidden_dim = 64\n",
    "batch_size = 64\n",
    "lr = 0.1\n",
    "epochs = 10\n",
    "\n",
    "np.random.seed(0)\n",
    "torch.manual_seed(0)\n",
    "\n",
    "NN_model1 = train_model(NeuralNetworkModel(input_dim, hidden_dim, Network, batch_size, lr, epochs), X_train, Y_train)\n",
    "NN_model2 = train_model(NeuralNetworkModel(input_dim, hidden_dim, Network, batch_size, lr, epochs), X_train_adj, Y_train_adj)\n",
    "\n",
    "NN_model1_pred = evaluate_model(NN_model1, X_test, Y_test)\n",
    "NN_model2_pred = evaluate_model(NN_model2, X_test, Y_test)"
   ]
  },
  {
   "cell_type": "code",
   "execution_count": 47,
   "id": "30e748e1-20d6-4355-b885-042fabaf8be7",
   "metadata": {},
   "outputs": [
    {
     "name": "stdout",
     "output_type": "stream",
     "text": [
      "Accuracy: 0.90\n",
      "Balanced Accuracy: 0.62\n",
      "Recall [0, 1]: [0.99063314 0.25465947]\n",
      "Precision [0, 1]: [0.90793296 0.78559914]\n",
      "f1: 0.38\n",
      "ROC AUC: 0.62\n"
     ]
    }
   ],
   "source": [
    "NN_model1_balanced_accuracy, NN_model1_recall, NN_model1_precision = get_metrics(Y_test, NN_model1_pred)"
   ]
  },
  {
   "cell_type": "code",
   "execution_count": 48,
   "id": "7957cdc6-8024-4d3f-a534-646dd237cf04",
   "metadata": {},
   "outputs": [
    {
     "data": {
      "image/png": "[encoded data removed]",
      "text/plain": [
       "<Figure size 300x300 with 2 Axes>"
      ]
     },
     "metadata": {},
     "output_type": "display_data"
    }
   ],
   "source": [
    "plot_normalised_confusion_matrix(Y_test, NN_model1_pred, 'Neural Network')"
   ]
  },
  {
   "cell_type": "code",
   "execution_count": 49,
   "id": "b8f75fb4-e8c7-4d5f-a049-9373796e5d11",
   "metadata": {},
   "outputs": [
    {
     "name": "stdout",
     "output_type": "stream",
     "text": [
      "Accuracy: 0.81\n",
      "Balanced Accuracy: 0.80\n",
      "Recall [0, 1]: [0.80989272 0.79271904]\n",
      "Precision [0, 1]: [0.96665639 0.35979129]\n",
      "f1: 0.49\n",
      "ROC AUC: 0.80\n"
     ]
    }
   ],
   "source": [
    "NN_model2_balanced_accuracy, NN_model2_recall, NN_model2_precision = get_metrics(Y_test, NN_model2_pred)"
   ]
  },
  {
   "cell_type": "code",
   "execution_count": 50,
   "id": "b6caffc2-b68d-4541-a2e0-0a0928d3554a",
   "metadata": {},
   "outputs": [
    {
     "data": {
      "image/png": "[encoded data removed]",
      "text/plain": [
       "<Figure size 300x300 with 2 Axes>"
      ]
     },
     "metadata": {},
     "output_type": "display_data"
    }
   ],
   "source": [
    "plot_normalised_confusion_matrix(Y_test, NN_model2_pred, 'Neural Network with minority resampling')"
   ]
  },
  {
   "cell_type": "markdown",
   "id": "3bfe03ca-7d98-487b-b622-4625f4dc0429",
   "metadata": {},
   "source": [
    "## Summary of Results"
   ]
  },
  {
   "cell_type": "code",
   "execution_count": 51,
   "id": "557ec594-2ff2-4db5-a4c7-59da3adf8492",
   "metadata": {},
   "outputs": [],
   "source": [
    "# Helper function for printing out model metrics\n",
    "def print_summary_metrics(model_name, labels, predictions):\n",
    "    accuracy = accuracy_score(labels, predictions)\n",
    "    balanced_accuracy = balanced_accuracy_score(labels, predictions)\n",
    "    recall = recall_score(labels, predictions, labels=[0, 1], average=None)\n",
    "    precision = precision_score(labels, predictions, labels=[0, 1], average=None)\n",
    "    f1 = f1_score(labels, predictions)\n",
    "    roc = roc_auc_score(labels, predictions)\n",
    "    \n",
    "    print (f\"{model_name:<20} {accuracy:<15.2f} {balanced_accuracy:<15.2f} {f1:<15.2f} {roc:<15.2f} {recall[0]:<5.2f},{recall[1]:<8.2f}  {precision[0]:<5.2f},{precision[1]:<8.2f}\")\n",
    "    "
   ]
  },
  {
   "cell_type": "code",
   "execution_count": 52,
   "id": "a6e6c08c-812a-4880-bde1-12bdb66bba80",
   "metadata": {},
   "outputs": [],
   "source": [
    "# The model names and their corresponding predicitions\n",
    "models = [\"Logistic Regression\", \"Naive Bayes\", \"Decision Tree\", \"Random Forest\", \"KNN\", \"Gradient Boosting\", \"Neural Network\"]\n",
    "preds = [LR_model1_pred, NB_model1_pred, DT_model1_pred, RF_model1_pred, KNN_model1_pred, GB_model1_pred, NN_model1_pred]\n",
    "preds_adj = [LR_model2_pred, NB_model2_pred, DT_model2_pred, RF_model2_pred, KNN_model2_pred, GB_model2_pred, NN_model2_pred]\n"
   ]
  },
  {
   "cell_type": "code",
   "execution_count": 53,
   "id": "5cb1e6cc-8304-4c89-aad4-b61752e7aebb",
   "metadata": {},
   "outputs": [
    {
     "name": "stdout",
     "output_type": "stream",
     "text": [
      "Model                Accuracy        Balance Acc     f1              AUC             Recall          Precision      \n",
      "Logistic Regression  0.91            0.66            0.46            0.66            0.98 ,0.34      0.92 ,0.72    \n",
      "Naive Bayes          0.81            0.77            0.47            0.77            0.82 ,0.73      0.96 ,0.35    \n",
      "Decision Tree        0.91            0.69            0.52            0.69            0.98 ,0.41      0.92 ,0.70    \n",
      "Random Forest        0.90            0.70            0.52            0.70            0.96 ,0.44      0.93 ,0.63    \n",
      "KNN                  0.90            0.66            0.44            0.66            0.97 ,0.34      0.92 ,0.62    \n",
      "Gradient Boosting    0.91            0.69            0.52            0.69            0.98 ,0.40      0.92 ,0.74    \n",
      "Neural Network       0.90            0.62            0.38            0.62            0.99 ,0.25      0.91 ,0.79    \n"
     ]
    }
   ],
   "source": [
    "print(f\"{'Model':20} {'Accuracy':15} {'Balance Acc':15} {'f1':15} {'AUC':15} {'Recall':15} {'Precision':15}\")\n",
    "for model, pred in zip(models, preds):\n",
    "    print_summary_metrics(model, Y_test, pred)"
   ]
  },
  {
   "cell_type": "code",
   "execution_count": 54,
   "id": "8c05c06d-38a8-4360-8083-6e123fff7ec3",
   "metadata": {},
   "outputs": [
    {
     "name": "stdout",
     "output_type": "stream",
     "text": [
      "Model                Accuracy        Balance Acc     f1              AUC             Recall          Precision      \n",
      "Logistic Regression  0.81            0.80            0.50            0.80            0.81 ,0.79      0.97 ,0.36    \n",
      "Naive Bayes          0.45            0.65            0.28            0.65            0.39 ,0.92      0.97 ,0.17    \n",
      "Decision Tree        0.86            0.78            0.53            0.78            0.88 ,0.68      0.95 ,0.44    \n",
      "Random Forest        0.87            0.75            0.52            0.75            0.91 ,0.59      0.94 ,0.47    \n",
      "KNN                  0.83            0.74            0.46            0.74            0.86 ,0.61      0.94 ,0.37    \n",
      "Gradient Boosting    0.85            0.80            0.54            0.80            0.87 ,0.74      0.96 ,0.43    \n",
      "Neural Network       0.81            0.80            0.49            0.80            0.81 ,0.79      0.97 ,0.36    \n"
     ]
    }
   ],
   "source": [
    "print(f\"{'Model':20} {'Accuracy':15} {'Balance Acc':15} {'f1':15} {'AUC':15} {'Recall':15} {'Precision':15}\")\n",
    "for model, pred in zip(models, preds_adj):\n",
    "    print_summary_metrics(model, Y_test, pred)"
   ]
  },
  {
   "cell_type": "code",
   "execution_count": 55,
   "id": "9cc5e85b-1c7a-477e-8699-caf40b601491",
   "metadata": {},
   "outputs": [
    {
     "data": {
      "text/plain": [
       "{'age': 2.354197910261,\n",
       " 'education': 4.792951759459176,\n",
       " 'marital stat': 0.4950881689540569,\n",
       " 'sex': -1.2589134262253086,\n",
       " 'capital gains': 11.686251331910793,\n",
       " 'capital losses': 2.6995048973618077,\n",
       " 'dividends from stocks': 11.969906745681026,\n",
       " 'num persons worked for employer': 1.2262833196147844,\n",
       " 'weeks worked in year': 2.816712939137342,\n",
       " 'class of worker_ Federal government': 0.1265687370742301,\n",
       " 'class of worker_ Local government': -0.5654255943260665,\n",
       " 'class of worker_ Never worked': 1.2264335934669983,\n",
       " 'class of worker_ Private': -0.02459949999377686,\n",
       " 'class of worker_ Self-employed-incorporated': 1.0638847167585108,\n",
       " 'class of worker_ Self-employed-not incorporated': 0.17354639242573844,\n",
       " 'class of worker_ State government': -0.8018911049143239,\n",
       " 'class of worker_ Without pay': -1.198517240491273,\n",
       " 'race_ Amer Indian Aleut or Eskimo': -0.08454264257616985,\n",
       " 'race_ Asian or Pacific Islander': 0.18844203261962045,\n",
       " 'race_ Black': -0.1883991543144446,\n",
       " 'race_ Other': -0.09137441722744387,\n",
       " 'race_ White': 0.17587418150378153,\n",
       " 'full or part time employment stat_Armed Forces': -0.02034273215468232,\n",
       " 'full or part time employment stat_Full Time': 0.10713850357588066,\n",
       " 'full or part time employment stat_Not in labor force': 0.02615175006055922,\n",
       " 'full or part time employment stat_Part Time': 0.023277217532026197,\n",
       " 'full or part time employment stat_Unemployed': -0.1362247390118043,\n",
       " 'citizenship_ Foreign born- Not a citizen of U S ': -0.18464804654044625,\n",
       " 'citizenship_ Foreign born- U S citizen by naturalization': 0.13996020450859797,\n",
       " 'citizenship_ Native- Born abroad of American Parent(s)': 0.16442780815054456,\n",
       " 'citizenship_ Native- Born in Puerto Rico or U S Outlying': -0.36047777006632137,\n",
       " 'citizenship_ Native- Born in the United States': 0.24073780395188465}"
      ]
     },
     "execution_count": 55,
     "metadata": {},
     "output_type": "execute_result"
    }
   ],
   "source": [
    "# Coefficients of LR model\n",
    "{col: coeff for col, coeff in zip(list(X_train.columns), LR_model1.coef_[0])}"
   ]
  },
  {
   "cell_type": "code",
   "execution_count": 56,
   "id": "f86d9f04-3b04-4061-8040-6f82612a0682",
   "metadata": {},
   "outputs": [
    {
     "data": {
      "text/plain": [
       "{'age': 2.7738008618560794,\n",
       " 'education': 5.198818704534209,\n",
       " 'marital stat': 0.45659471013451175,\n",
       " 'sex': -1.312451486994824,\n",
       " 'capital gains': 15.925787868830815,\n",
       " 'capital losses': 2.759593266963709,\n",
       " 'dividends from stocks': 21.239796812373832,\n",
       " 'num persons worked for employer': 1.2260954884377686,\n",
       " 'weeks worked in year': 3.247701493947913,\n",
       " 'class of worker_ Federal government': -2.8766246913482103,\n",
       " 'class of worker_ Local government': -3.607403880765535,\n",
       " 'class of worker_ Never worked': -1.1833633285584537,\n",
       " 'class of worker_ Private': -3.0293959590216315,\n",
       " 'class of worker_ Self-employed-incorporated': -1.8314288868856312,\n",
       " 'class of worker_ Self-employed-not incorporated': -2.73685258663335,\n",
       " 'class of worker_ State government': -3.8750861051947254,\n",
       " 'class of worker_ Without pay': -5.0321139416404055,\n",
       " 'race_ Amer Indian Aleut or Eskimo': -3.7219294642794014,\n",
       " 'race_ Asian or Pacific Islander': -3.1258163191962094,\n",
       " 'race_ Black': -3.447206735015503,\n",
       " 'race_ Other': -3.738879945877582,\n",
       " 'race_ White': -3.0823877552324466,\n",
       " 'full or part time employment stat_Armed Forces': -3.4144042765652767,\n",
       " 'full or part time employment stat_Full Time': -3.291698257604655,\n",
       " 'full or part time employment stat_Not in labor force': -3.6251647384787757,\n",
       " 'full or part time employment stat_Part Time': -3.4779913449676876,\n",
       " 'full or part time employment stat_Unemployed': -3.6744187231700005,\n",
       " 'citizenship_ Foreign born- Not a citizen of U S ': -3.590818127397835,\n",
       " 'citizenship_ Foreign born- U S citizen by naturalization': -3.315586417442603,\n",
       " 'citizenship_ Native- Born abroad of American Parent(s)': -3.61887953362636,\n",
       " 'citizenship_ Native- Born in Puerto Rico or U S Outlying': -4.1673062159550245,\n",
       " 'citizenship_ Native- Born in the United States': -3.135301351748289}"
      ]
     },
     "execution_count": 56,
     "metadata": {},
     "output_type": "execute_result"
    }
   ],
   "source": [
    "# Coefficients of LR model with minority resampling\n",
    "{col: coeff for col, coeff in zip(list(X_train.columns), LR_model2.coef_[0])}"
   ]
  }
 ],
 "metadata": {
  "kernelspec": {
   "display_name": "venv",
   "language": "python",
   "name": "venv"
  },
  "language_info": {
   "codemirror_mode": {
    "name": "ipython",
    "version": 3
   },
   "file_extension": ".py",
   "mimetype": "text/x-python",
   "name": "python",
   "nbconvert_exporter": "python",
   "pygments_lexer": "ipython3",
   "version": "3.8.3"
  }
 },
 "nbformat": 4,
 "nbformat_minor": 5
}
