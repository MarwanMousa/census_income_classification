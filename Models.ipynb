{
 "cells": [
  {
   "cell_type": "markdown",
   "id": "9b043481-4662-45bb-8098-7027d97b5daa",
   "metadata": {},
   "source": [
    "# Model"
   ]
  },
  {
   "cell_type": "markdown",
   "id": "24bb560a-e79d-4a61-b441-619963625bb9",
   "metadata": {},
   "source": [
    "## Imports"
   ]
  },
  {
   "cell_type": "code",
   "execution_count": 1,
   "id": "1cb5da19-079c-42ce-bb91-bea0c5076219",
   "metadata": {},
   "outputs": [],
   "source": [
    "import pandas as pd\n",
    "import numpy as np\n",
    "import matplotlib.pyplot as plt\n",
    "import seaborn as sns\n",
    "\n",
    "%matplotlib inline"
   ]
  },
  {
   "cell_type": "markdown",
   "id": "ae227986-8bde-40ff-9c27-121d79688660",
   "metadata": {},
   "source": [
    "## Loading in Data"
   ]
  },
  {
   "cell_type": "code",
   "execution_count": 9,
   "id": "4a6b43d7-a38c-44ff-a74a-224a7e95d85f",
   "metadata": {},
   "outputs": [],
   "source": [
    "# Read in the train/test census datasets\n",
    "income_train_df = pd.read_csv('data/census_train_clean.csv', index_col=0)\n",
    "income_test_df = pd.read_csv('data/census_test_clean.csv', index_col=0)"
   ]
  },
  {
   "cell_type": "code",
   "execution_count": 10,
   "id": "028e6233-1cde-461f-816c-e49a99408b43",
   "metadata": {},
   "outputs": [
    {
     "data": {
      "text/html": [
       "<div>\n",
       "<style scoped>\n",
       "    .dataframe tbody tr th:only-of-type {\n",
       "        vertical-align: middle;\n",
       "    }\n",
       "\n",
       "    .dataframe tbody tr th {\n",
       "        vertical-align: top;\n",
       "    }\n",
       "\n",
       "    .dataframe thead th {\n",
       "        text-align: right;\n",
       "    }\n",
       "</style>\n",
       "<table border=\"1\" class=\"dataframe\">\n",
       "  <thead>\n",
       "    <tr style=\"text-align: right;\">\n",
       "      <th></th>\n",
       "      <th>age</th>\n",
       "      <th>class of worker</th>\n",
       "      <th>education</th>\n",
       "      <th>marital stat</th>\n",
       "      <th>race</th>\n",
       "      <th>sex</th>\n",
       "      <th>full or part time employment stat</th>\n",
       "      <th>capital gains</th>\n",
       "      <th>capital losses</th>\n",
       "      <th>dividends from stocks</th>\n",
       "      <th>num persons worked for employer</th>\n",
       "      <th>citizenship</th>\n",
       "      <th>weeks worked in year</th>\n",
       "      <th>income</th>\n",
       "    </tr>\n",
       "  </thead>\n",
       "  <tbody>\n",
       "    <tr>\n",
       "      <th>0</th>\n",
       "      <td>58</td>\n",
       "      <td>Self-employed-not incorporated</td>\n",
       "      <td>High School Graduate</td>\n",
       "      <td>Divorced</td>\n",
       "      <td>White</td>\n",
       "      <td>0</td>\n",
       "      <td>Armed Forces</td>\n",
       "      <td>0</td>\n",
       "      <td>0</td>\n",
       "      <td>0</td>\n",
       "      <td>1</td>\n",
       "      <td>Native- Born in the United States</td>\n",
       "      <td>52</td>\n",
       "      <td>0</td>\n",
       "    </tr>\n",
       "    <tr>\n",
       "      <th>1</th>\n",
       "      <td>48</td>\n",
       "      <td>Private</td>\n",
       "      <td>High School Graduate</td>\n",
       "      <td>Married-civilian spouse present</td>\n",
       "      <td>Amer Indian Aleut or Eskimo</td>\n",
       "      <td>1</td>\n",
       "      <td>Full Time</td>\n",
       "      <td>0</td>\n",
       "      <td>0</td>\n",
       "      <td>0</td>\n",
       "      <td>1</td>\n",
       "      <td>Native- Born in the United States</td>\n",
       "      <td>52</td>\n",
       "      <td>0</td>\n",
       "    </tr>\n",
       "    <tr>\n",
       "      <th>2</th>\n",
       "      <td>42</td>\n",
       "      <td>Private</td>\n",
       "      <td>Undergraduate Degree</td>\n",
       "      <td>Married-civilian spouse present</td>\n",
       "      <td>White</td>\n",
       "      <td>0</td>\n",
       "      <td>Armed Forces</td>\n",
       "      <td>5178</td>\n",
       "      <td>0</td>\n",
       "      <td>0</td>\n",
       "      <td>6</td>\n",
       "      <td>Native- Born in the United States</td>\n",
       "      <td>52</td>\n",
       "      <td>0</td>\n",
       "    </tr>\n",
       "    <tr>\n",
       "      <th>3</th>\n",
       "      <td>28</td>\n",
       "      <td>Private</td>\n",
       "      <td>High School Graduate</td>\n",
       "      <td>Never married</td>\n",
       "      <td>White</td>\n",
       "      <td>1</td>\n",
       "      <td>Unemployed</td>\n",
       "      <td>0</td>\n",
       "      <td>0</td>\n",
       "      <td>0</td>\n",
       "      <td>4</td>\n",
       "      <td>Native- Born in the United States</td>\n",
       "      <td>30</td>\n",
       "      <td>0</td>\n",
       "    </tr>\n",
       "    <tr>\n",
       "      <th>4</th>\n",
       "      <td>47</td>\n",
       "      <td>Local government</td>\n",
       "      <td>High School Graduate</td>\n",
       "      <td>Married-civilian spouse present</td>\n",
       "      <td>White</td>\n",
       "      <td>1</td>\n",
       "      <td>Full Time</td>\n",
       "      <td>0</td>\n",
       "      <td>0</td>\n",
       "      <td>0</td>\n",
       "      <td>5</td>\n",
       "      <td>Native- Born in the United States</td>\n",
       "      <td>52</td>\n",
       "      <td>0</td>\n",
       "    </tr>\n",
       "  </tbody>\n",
       "</table>\n",
       "</div>"
      ],
      "text/plain": [
       "   age                  class of worker             education  \\\n",
       "0   58   Self-employed-not incorporated  High School Graduate   \n",
       "1   48                          Private  High School Graduate   \n",
       "2   42                          Private  Undergraduate Degree   \n",
       "3   28                          Private  High School Graduate   \n",
       "4   47                 Local government  High School Graduate   \n",
       "\n",
       "                       marital stat                          race  sex  \\\n",
       "0                          Divorced                         White    0   \n",
       "1   Married-civilian spouse present   Amer Indian Aleut or Eskimo    1   \n",
       "2   Married-civilian spouse present                         White    0   \n",
       "3                     Never married                         White    1   \n",
       "4   Married-civilian spouse present                         White    1   \n",
       "\n",
       "  full or part time employment stat  capital gains  capital losses  \\\n",
       "0                      Armed Forces              0               0   \n",
       "1                         Full Time              0               0   \n",
       "2                      Armed Forces           5178               0   \n",
       "3                        Unemployed              0               0   \n",
       "4                         Full Time              0               0   \n",
       "\n",
       "   dividends from stocks  num persons worked for employer  \\\n",
       "0                      0                                1   \n",
       "1                      0                                1   \n",
       "2                      0                                6   \n",
       "3                      0                                4   \n",
       "4                      0                                5   \n",
       "\n",
       "                          citizenship  weeks worked in year  income  \n",
       "0   Native- Born in the United States                    52       0  \n",
       "1   Native- Born in the United States                    52       0  \n",
       "2   Native- Born in the United States                    52       0  \n",
       "3   Native- Born in the United States                    30       0  \n",
       "4   Native- Born in the United States                    52       0  "
      ]
     },
     "execution_count": 10,
     "metadata": {},
     "output_type": "execute_result"
    }
   ],
   "source": [
    "income_train_df.head()"
   ]
  },
  {
   "cell_type": "code",
   "execution_count": 13,
   "id": "4670789e-9e0f-4625-987f-4758490fe9d2",
   "metadata": {},
   "outputs": [
    {
     "name": "stdout",
     "output_type": "stream",
     "text": [
      "Train dataset has 96,535 datapoints with proportion of high income earners: 0.11887916299787642\n"
     ]
    }
   ],
   "source": [
    "print(f'Train dataset has {len(income_train_df):,} datapoints with proportion of high income earners: {income_train_df.income.mean()}')"
   ]
  },
  {
   "cell_type": "code",
   "execution_count": 14,
   "id": "b2100ee9-5039-477b-9ec8-687e67266f17",
   "metadata": {},
   "outputs": [
    {
     "name": "stdout",
     "output_type": "stream",
     "text": [
      "Test dataset has 96,535 datapoints with proportion of high income earners: 0.11887916299787642\n"
     ]
    }
   ],
   "source": [
    "print(f'Test dataset has {len(income_test_df):,} datapoints with proportion of high income earners: {income_test_df.income.mean()}')"
   ]
  },
  {
   "cell_type": "code",
   "execution_count": null,
   "id": "92ed9426-d7bf-408d-ab1f-febc3c741e20",
   "metadata": {},
   "outputs": [],
   "source": []
  }
 ],
 "metadata": {
  "kernelspec": {
   "display_name": "venv",
   "language": "python",
   "name": "venv"
  },
  "language_info": {
   "codemirror_mode": {
    "name": "ipython",
    "version": 3
   },
   "file_extension": ".py",
   "mimetype": "text/x-python",
   "name": "python",
   "nbconvert_exporter": "python",
   "pygments_lexer": "ipython3",
   "version": "3.8.3"
  }
 },
 "nbformat": 4,
 "nbformat_minor": 5
}
